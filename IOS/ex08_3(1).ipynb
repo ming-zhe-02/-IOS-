{
  "nbformat": 4,
  "nbformat_minor": 0,
  "metadata": {
    "kernelspec": {
      "display_name": "Python 3",
      "language": "python",
      "name": "python3"
    },
    "language_info": {
      "codemirror_mode": {
        "name": "ipython",
        "version": 3
      },
      "file_extension": ".py",
      "mimetype": "text/x-python",
      "name": "python",
      "nbconvert_exporter": "python",
      "pygments_lexer": "ipython3",
      "version": "3.7.6"
    },
    "colab": {
      "name": "ex08-3(1).ipynb",
      "provenance": []
    }
  },
  "cells": [
    {
      "cell_type": "markdown",
      "metadata": {
        "id": "dYwBmVIPDIro"
      },
      "source": [
        "## Ex 8-3\n",
        "\n",
        "#### 1. 請建立 B 分店的庫存量 (其中「產品」為索引)：\n",
        "\n",
        "<br>產品  |  型號<br><br><br>  | 庫存<br><br><br>\n",
        ":---- |:-----:|------:\n",
        "洗衣機 | WS400 |  100\n",
        "電視機 | TV100 |  100\n",
        "電冰箱 | FR200 |  100\n",
        "冷氣機 | AC300 |  100\n",
        "\n",
        "\n",
        "#### 2. 請計算 A 分店 (Ex 8-1) 與 B 分店的總庫存量：\n",
        "結果：\n",
        "\n",
        "<br>產品  |  型號<br><br><br>  | 庫存<br><br><br>\n",
        ":---- |:-----:|------:\n",
        "洗衣機 | WS400 |  200\n",
        "電視機 | TV100 |  300\n",
        "電冰箱 | FR200 |  400\n",
        "冷氣機 | AC300 |  500"
      ]
    },
    {
      "cell_type": "code",
      "metadata": {
        "colab": {
          "base_uri": "https://localhost:8080/",
          "height": 204
        },
        "id": "LU3dy4QoDIrw",
        "outputId": "82cec81a-4a53-439d-fad3-3e1694c0e7ea"
      },
      "source": [
        "import numpy as np\n",
        "import pandas as pd\n",
        "\n",
        "data = {'型號':['WS400', 'TV100', 'FR200', 'AC300' ],\n",
        "        '庫存':[100, 100, 100, 100]}\n",
        "dfB = pd.DataFrame(data,\n",
        "                  index=['洗衣機', '電視機', '電冰箱', '冷氣機'])\n",
        "\n",
        "dfB.index.name = '產品'\n",
        "\n",
        "dfB\n"
      ],
      "execution_count": 4,
      "outputs": [
        {
          "output_type": "execute_result",
          "data": {
            "text/html": [
              "<div>\n",
              "<style scoped>\n",
              "    .dataframe tbody tr th:only-of-type {\n",
              "        vertical-align: middle;\n",
              "    }\n",
              "\n",
              "    .dataframe tbody tr th {\n",
              "        vertical-align: top;\n",
              "    }\n",
              "\n",
              "    .dataframe thead th {\n",
              "        text-align: right;\n",
              "    }\n",
              "</style>\n",
              "<table border=\"1\" class=\"dataframe\">\n",
              "  <thead>\n",
              "    <tr style=\"text-align: right;\">\n",
              "      <th></th>\n",
              "      <th>型號</th>\n",
              "      <th>庫存</th>\n",
              "    </tr>\n",
              "    <tr>\n",
              "      <th>產品</th>\n",
              "      <th></th>\n",
              "      <th></th>\n",
              "    </tr>\n",
              "  </thead>\n",
              "  <tbody>\n",
              "    <tr>\n",
              "      <th>洗衣機</th>\n",
              "      <td>WS400</td>\n",
              "      <td>100</td>\n",
              "    </tr>\n",
              "    <tr>\n",
              "      <th>電視機</th>\n",
              "      <td>TV100</td>\n",
              "      <td>100</td>\n",
              "    </tr>\n",
              "    <tr>\n",
              "      <th>電冰箱</th>\n",
              "      <td>FR200</td>\n",
              "      <td>100</td>\n",
              "    </tr>\n",
              "    <tr>\n",
              "      <th>冷氣機</th>\n",
              "      <td>AC300</td>\n",
              "      <td>100</td>\n",
              "    </tr>\n",
              "  </tbody>\n",
              "</table>\n",
              "</div>"
            ],
            "text/plain": [
              "        型號   庫存\n",
              "產品             \n",
              "洗衣機  WS400  100\n",
              "電視機  TV100  100\n",
              "電冰箱  FR200  100\n",
              "冷氣機  AC300  100"
            ]
          },
          "metadata": {
            "tags": []
          },
          "execution_count": 4
        }
      ]
    },
    {
      "cell_type": "code",
      "metadata": {
        "colab": {
          "base_uri": "https://localhost:8080/",
          "height": 204
        },
        "id": "trQIq3Z_DpYF",
        "outputId": "1f3aff3f-1fe0-4965-ed3d-f52287818b4e"
      },
      "source": [
        "data = {'型號':['WS400', 'TV100', 'FR200', 'AC300' ],\n",
        "        '庫存':[100, 200, 300, 400]}\n",
        "dfA = pd.DataFrame(data,\n",
        "                  index=['洗衣機', '電視機', '電冰箱', '冷氣機'])\n",
        "\n",
        "dfA.index.name = '產品'\n",
        "\n",
        "ans = dfA.copy()\n",
        "\n",
        "ans['庫存'] = dfA['庫存'] + dfB['庫存']\n",
        "ans\n"
      ],
      "execution_count": 15,
      "outputs": [
        {
          "output_type": "execute_result",
          "data": {
            "text/html": [
              "<div>\n",
              "<style scoped>\n",
              "    .dataframe tbody tr th:only-of-type {\n",
              "        vertical-align: middle;\n",
              "    }\n",
              "\n",
              "    .dataframe tbody tr th {\n",
              "        vertical-align: top;\n",
              "    }\n",
              "\n",
              "    .dataframe thead th {\n",
              "        text-align: right;\n",
              "    }\n",
              "</style>\n",
              "<table border=\"1\" class=\"dataframe\">\n",
              "  <thead>\n",
              "    <tr style=\"text-align: right;\">\n",
              "      <th></th>\n",
              "      <th>型號</th>\n",
              "      <th>庫存</th>\n",
              "    </tr>\n",
              "    <tr>\n",
              "      <th>產品</th>\n",
              "      <th></th>\n",
              "      <th></th>\n",
              "    </tr>\n",
              "  </thead>\n",
              "  <tbody>\n",
              "    <tr>\n",
              "      <th>洗衣機</th>\n",
              "      <td>WS400</td>\n",
              "      <td>200</td>\n",
              "    </tr>\n",
              "    <tr>\n",
              "      <th>電視機</th>\n",
              "      <td>TV100</td>\n",
              "      <td>300</td>\n",
              "    </tr>\n",
              "    <tr>\n",
              "      <th>電冰箱</th>\n",
              "      <td>FR200</td>\n",
              "      <td>400</td>\n",
              "    </tr>\n",
              "    <tr>\n",
              "      <th>冷氣機</th>\n",
              "      <td>AC300</td>\n",
              "      <td>500</td>\n",
              "    </tr>\n",
              "  </tbody>\n",
              "</table>\n",
              "</div>"
            ],
            "text/plain": [
              "        型號   庫存\n",
              "產品             \n",
              "洗衣機  WS400  200\n",
              "電視機  TV100  300\n",
              "電冰箱  FR200  400\n",
              "冷氣機  AC300  500"
            ]
          },
          "metadata": {
            "tags": []
          },
          "execution_count": 15
        }
      ]
    }
  ]
}